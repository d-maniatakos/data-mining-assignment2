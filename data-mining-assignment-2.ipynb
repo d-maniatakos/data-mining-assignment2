{
  "nbformat": 4,
  "nbformat_minor": 0,
  "metadata": {
    "colab": {
      "name": "Untitled11.ipynb",
      "provenance": [],
      "toc_visible": true
    },
    "kernelspec": {
      "name": "python3",
      "display_name": "Python 3"
    },
    "language_info": {
      "name": "python"
    }
  },
  "cells": [
    {
      "cell_type": "markdown",
      "metadata": {
        "id": "p5Rv09TteXw-"
      },
      "source": [
        "## **Imports**"
      ]
    },
    {
      "cell_type": "code",
      "metadata": {
        "id": "ByzkLj-qeer2"
      },
      "source": [
        "import pandas as pd\n",
        "from matplotlib.pyplot import figure\n",
        "import matplotlib.pyplot as plt\n",
        "from wordcloud import WordCloud\n",
        "from gensim.parsing.preprocessing import remove_stopwords\n",
        "from sklearn.feature_extraction.text import *"
      ],
      "execution_count": 1,
      "outputs": []
    },
    {
      "cell_type": "markdown",
      "metadata": {
        "id": "3LImsyA6eOmU"
      },
      "source": [
        "## **Προεπεξεργασία/Καθάρισμα Δεδομένων**"
      ]
    },
    {
      "cell_type": "code",
      "metadata": {
        "id": "QIlJXZL9ZeUs",
        "colab": {
          "base_uri": "https://localhost:8080/",
          "height": 204
        },
        "outputId": "11d0076d-4eef-4b0c-f211-07c1c30366ef"
      },
      "source": [
        "fake_data_raw = pd.read_csv(\"Fake.csv\")\n",
        "fake_data_raw.head()"
      ],
      "execution_count": 2,
      "outputs": [
        {
          "output_type": "execute_result",
          "data": {
            "text/html": [
              "<div>\n",
              "<style scoped>\n",
              "    .dataframe tbody tr th:only-of-type {\n",
              "        vertical-align: middle;\n",
              "    }\n",
              "\n",
              "    .dataframe tbody tr th {\n",
              "        vertical-align: top;\n",
              "    }\n",
              "\n",
              "    .dataframe thead th {\n",
              "        text-align: right;\n",
              "    }\n",
              "</style>\n",
              "<table border=\"1\" class=\"dataframe\">\n",
              "  <thead>\n",
              "    <tr style=\"text-align: right;\">\n",
              "      <th></th>\n",
              "      <th>title</th>\n",
              "      <th>text</th>\n",
              "      <th>subject</th>\n",
              "      <th>date</th>\n",
              "    </tr>\n",
              "  </thead>\n",
              "  <tbody>\n",
              "    <tr>\n",
              "      <th>0</th>\n",
              "      <td>Donald Trump Sends Out Embarrassing New Year’...</td>\n",
              "      <td>Donald Trump just couldn t wish all Americans ...</td>\n",
              "      <td>News</td>\n",
              "      <td>December 31, 2017</td>\n",
              "    </tr>\n",
              "    <tr>\n",
              "      <th>1</th>\n",
              "      <td>Drunk Bragging Trump Staffer Started Russian ...</td>\n",
              "      <td>House Intelligence Committee Chairman Devin Nu...</td>\n",
              "      <td>News</td>\n",
              "      <td>December 31, 2017</td>\n",
              "    </tr>\n",
              "    <tr>\n",
              "      <th>2</th>\n",
              "      <td>Sheriff David Clarke Becomes An Internet Joke...</td>\n",
              "      <td>On Friday, it was revealed that former Milwauk...</td>\n",
              "      <td>News</td>\n",
              "      <td>December 30, 2017</td>\n",
              "    </tr>\n",
              "    <tr>\n",
              "      <th>3</th>\n",
              "      <td>Trump Is So Obsessed He Even Has Obama’s Name...</td>\n",
              "      <td>On Christmas day, Donald Trump announced that ...</td>\n",
              "      <td>News</td>\n",
              "      <td>December 29, 2017</td>\n",
              "    </tr>\n",
              "    <tr>\n",
              "      <th>4</th>\n",
              "      <td>Pope Francis Just Called Out Donald Trump Dur...</td>\n",
              "      <td>Pope Francis used his annual Christmas Day mes...</td>\n",
              "      <td>News</td>\n",
              "      <td>December 25, 2017</td>\n",
              "    </tr>\n",
              "  </tbody>\n",
              "</table>\n",
              "</div>"
            ],
            "text/plain": [
              "                                               title  ...               date\n",
              "0   Donald Trump Sends Out Embarrassing New Year’...  ...  December 31, 2017\n",
              "1   Drunk Bragging Trump Staffer Started Russian ...  ...  December 31, 2017\n",
              "2   Sheriff David Clarke Becomes An Internet Joke...  ...  December 30, 2017\n",
              "3   Trump Is So Obsessed He Even Has Obama’s Name...  ...  December 29, 2017\n",
              "4   Pope Francis Just Called Out Donald Trump Dur...  ...  December 25, 2017\n",
              "\n",
              "[5 rows x 4 columns]"
            ]
          },
          "metadata": {
            "tags": []
          },
          "execution_count": 2
        }
      ]
    },
    {
      "cell_type": "code",
      "metadata": {
        "id": "qUophVdLe8BG",
        "colab": {
          "base_uri": "https://localhost:8080/",
          "height": 204
        },
        "outputId": "c1bea2df-8faf-4022-9319-619dc7d4f87b"
      },
      "source": [
        "true_data_raw = pd.read_csv(\"True.csv\")\n",
        "true_data_raw.head()"
      ],
      "execution_count": 3,
      "outputs": [
        {
          "output_type": "execute_result",
          "data": {
            "text/html": [
              "<div>\n",
              "<style scoped>\n",
              "    .dataframe tbody tr th:only-of-type {\n",
              "        vertical-align: middle;\n",
              "    }\n",
              "\n",
              "    .dataframe tbody tr th {\n",
              "        vertical-align: top;\n",
              "    }\n",
              "\n",
              "    .dataframe thead th {\n",
              "        text-align: right;\n",
              "    }\n",
              "</style>\n",
              "<table border=\"1\" class=\"dataframe\">\n",
              "  <thead>\n",
              "    <tr style=\"text-align: right;\">\n",
              "      <th></th>\n",
              "      <th>title</th>\n",
              "      <th>text</th>\n",
              "      <th>subject</th>\n",
              "      <th>date</th>\n",
              "    </tr>\n",
              "  </thead>\n",
              "  <tbody>\n",
              "    <tr>\n",
              "      <th>0</th>\n",
              "      <td>As U.S. budget fight looms, Republicans flip t...</td>\n",
              "      <td>WASHINGTON (Reuters) - The head of a conservat...</td>\n",
              "      <td>politicsNews</td>\n",
              "      <td>December 31, 2017</td>\n",
              "    </tr>\n",
              "    <tr>\n",
              "      <th>1</th>\n",
              "      <td>U.S. military to accept transgender recruits o...</td>\n",
              "      <td>WASHINGTON (Reuters) - Transgender people will...</td>\n",
              "      <td>politicsNews</td>\n",
              "      <td>December 29, 2017</td>\n",
              "    </tr>\n",
              "    <tr>\n",
              "      <th>2</th>\n",
              "      <td>Senior U.S. Republican senator: 'Let Mr. Muell...</td>\n",
              "      <td>WASHINGTON (Reuters) - The special counsel inv...</td>\n",
              "      <td>politicsNews</td>\n",
              "      <td>December 31, 2017</td>\n",
              "    </tr>\n",
              "    <tr>\n",
              "      <th>3</th>\n",
              "      <td>FBI Russia probe helped by Australian diplomat...</td>\n",
              "      <td>WASHINGTON (Reuters) - Trump campaign adviser ...</td>\n",
              "      <td>politicsNews</td>\n",
              "      <td>December 30, 2017</td>\n",
              "    </tr>\n",
              "    <tr>\n",
              "      <th>4</th>\n",
              "      <td>Trump wants Postal Service to charge 'much mor...</td>\n",
              "      <td>SEATTLE/WASHINGTON (Reuters) - President Donal...</td>\n",
              "      <td>politicsNews</td>\n",
              "      <td>December 29, 2017</td>\n",
              "    </tr>\n",
              "  </tbody>\n",
              "</table>\n",
              "</div>"
            ],
            "text/plain": [
              "                                               title  ...                date\n",
              "0  As U.S. budget fight looms, Republicans flip t...  ...  December 31, 2017 \n",
              "1  U.S. military to accept transgender recruits o...  ...  December 29, 2017 \n",
              "2  Senior U.S. Republican senator: 'Let Mr. Muell...  ...  December 31, 2017 \n",
              "3  FBI Russia probe helped by Australian diplomat...  ...  December 30, 2017 \n",
              "4  Trump wants Postal Service to charge 'much mor...  ...  December 29, 2017 \n",
              "\n",
              "[5 rows x 4 columns]"
            ]
          },
          "metadata": {
            "tags": []
          },
          "execution_count": 3
        }
      ]
    },
    {
      "cell_type": "code",
      "metadata": {
        "id": "0dRNfrOMfMm7",
        "colab": {
          "base_uri": "https://localhost:8080/",
          "height": 204
        },
        "outputId": "e97c58d2-a08a-4b2f-9376-30026bc28a8a"
      },
      "source": [
        "fake_data = fake_data_raw.dropna()\n",
        "\n",
        "fake_data['title'] = fake_data['title'].str.replace('[^\\w\\s]','')\n",
        "fake_data['text'] = fake_data['text'].str.replace('[^\\w\\s]','')\n",
        "fake_data['subject'] = fake_data['subject'].str.replace('[^\\w\\s]','')\n",
        "\n",
        "fake_data['title'] = fake_data['title'].str.lower()\n",
        "fake_data['text'] = fake_data['text'].str.lower()\n",
        "fake_data['subject'] = fake_data['subject'].str.lower()\n",
        "\n",
        "fake_data.head()"
      ],
      "execution_count": 4,
      "outputs": [
        {
          "output_type": "execute_result",
          "data": {
            "text/html": [
              "<div>\n",
              "<style scoped>\n",
              "    .dataframe tbody tr th:only-of-type {\n",
              "        vertical-align: middle;\n",
              "    }\n",
              "\n",
              "    .dataframe tbody tr th {\n",
              "        vertical-align: top;\n",
              "    }\n",
              "\n",
              "    .dataframe thead th {\n",
              "        text-align: right;\n",
              "    }\n",
              "</style>\n",
              "<table border=\"1\" class=\"dataframe\">\n",
              "  <thead>\n",
              "    <tr style=\"text-align: right;\">\n",
              "      <th></th>\n",
              "      <th>title</th>\n",
              "      <th>text</th>\n",
              "      <th>subject</th>\n",
              "      <th>date</th>\n",
              "    </tr>\n",
              "  </thead>\n",
              "  <tbody>\n",
              "    <tr>\n",
              "      <th>0</th>\n",
              "      <td>donald trump sends out embarrassing new years...</td>\n",
              "      <td>donald trump just couldn t wish all americans ...</td>\n",
              "      <td>news</td>\n",
              "      <td>December 31, 2017</td>\n",
              "    </tr>\n",
              "    <tr>\n",
              "      <th>1</th>\n",
              "      <td>drunk bragging trump staffer started russian ...</td>\n",
              "      <td>house intelligence committee chairman devin nu...</td>\n",
              "      <td>news</td>\n",
              "      <td>December 31, 2017</td>\n",
              "    </tr>\n",
              "    <tr>\n",
              "      <th>2</th>\n",
              "      <td>sheriff david clarke becomes an internet joke...</td>\n",
              "      <td>on friday it was revealed that former milwauke...</td>\n",
              "      <td>news</td>\n",
              "      <td>December 30, 2017</td>\n",
              "    </tr>\n",
              "    <tr>\n",
              "      <th>3</th>\n",
              "      <td>trump is so obsessed he even has obamas name ...</td>\n",
              "      <td>on christmas day donald trump announced that h...</td>\n",
              "      <td>news</td>\n",
              "      <td>December 29, 2017</td>\n",
              "    </tr>\n",
              "    <tr>\n",
              "      <th>4</th>\n",
              "      <td>pope francis just called out donald trump dur...</td>\n",
              "      <td>pope francis used his annual christmas day mes...</td>\n",
              "      <td>news</td>\n",
              "      <td>December 25, 2017</td>\n",
              "    </tr>\n",
              "  </tbody>\n",
              "</table>\n",
              "</div>"
            ],
            "text/plain": [
              "                                               title  ...               date\n",
              "0   donald trump sends out embarrassing new years...  ...  December 31, 2017\n",
              "1   drunk bragging trump staffer started russian ...  ...  December 31, 2017\n",
              "2   sheriff david clarke becomes an internet joke...  ...  December 30, 2017\n",
              "3   trump is so obsessed he even has obamas name ...  ...  December 29, 2017\n",
              "4   pope francis just called out donald trump dur...  ...  December 25, 2017\n",
              "\n",
              "[5 rows x 4 columns]"
            ]
          },
          "metadata": {
            "tags": []
          },
          "execution_count": 4
        }
      ]
    },
    {
      "cell_type": "code",
      "metadata": {
        "id": "jGYhX1HYgewp",
        "colab": {
          "base_uri": "https://localhost:8080/",
          "height": 204
        },
        "outputId": "7d4c26b5-34d7-49fb-832a-fb837833e0f8"
      },
      "source": [
        "true_data = true_data_raw.dropna()\n",
        "\n",
        "true_data['title'] = true_data['title'].str.replace('[^\\w\\s]','')\n",
        "true_data['text'] = true_data['text'].str.replace('[^\\w\\s]','')\n",
        "true_data['subject'] = true_data['subject'].str.replace('[^\\w\\s]','')\n",
        "\n",
        "true_data['title'] = true_data['title'].str.lower()\n",
        "true_data['text'] = true_data['text'].str.lower()\n",
        "true_data['subject'] = true_data['subject'].str.lower()\n",
        "\n",
        "true_data.head()"
      ],
      "execution_count": 5,
      "outputs": [
        {
          "output_type": "execute_result",
          "data": {
            "text/html": [
              "<div>\n",
              "<style scoped>\n",
              "    .dataframe tbody tr th:only-of-type {\n",
              "        vertical-align: middle;\n",
              "    }\n",
              "\n",
              "    .dataframe tbody tr th {\n",
              "        vertical-align: top;\n",
              "    }\n",
              "\n",
              "    .dataframe thead th {\n",
              "        text-align: right;\n",
              "    }\n",
              "</style>\n",
              "<table border=\"1\" class=\"dataframe\">\n",
              "  <thead>\n",
              "    <tr style=\"text-align: right;\">\n",
              "      <th></th>\n",
              "      <th>title</th>\n",
              "      <th>text</th>\n",
              "      <th>subject</th>\n",
              "      <th>date</th>\n",
              "    </tr>\n",
              "  </thead>\n",
              "  <tbody>\n",
              "    <tr>\n",
              "      <th>0</th>\n",
              "      <td>as us budget fight looms republicans flip thei...</td>\n",
              "      <td>washington reuters  the head of a conservative...</td>\n",
              "      <td>politicsnews</td>\n",
              "      <td>December 31, 2017</td>\n",
              "    </tr>\n",
              "    <tr>\n",
              "      <th>1</th>\n",
              "      <td>us military to accept transgender recruits on ...</td>\n",
              "      <td>washington reuters  transgender people will be...</td>\n",
              "      <td>politicsnews</td>\n",
              "      <td>December 29, 2017</td>\n",
              "    </tr>\n",
              "    <tr>\n",
              "      <th>2</th>\n",
              "      <td>senior us republican senator let mr mueller do...</td>\n",
              "      <td>washington reuters  the special counsel invest...</td>\n",
              "      <td>politicsnews</td>\n",
              "      <td>December 31, 2017</td>\n",
              "    </tr>\n",
              "    <tr>\n",
              "      <th>3</th>\n",
              "      <td>fbi russia probe helped by australian diplomat...</td>\n",
              "      <td>washington reuters  trump campaign adviser geo...</td>\n",
              "      <td>politicsnews</td>\n",
              "      <td>December 30, 2017</td>\n",
              "    </tr>\n",
              "    <tr>\n",
              "      <th>4</th>\n",
              "      <td>trump wants postal service to charge much more...</td>\n",
              "      <td>seattlewashington reuters  president donald tr...</td>\n",
              "      <td>politicsnews</td>\n",
              "      <td>December 29, 2017</td>\n",
              "    </tr>\n",
              "  </tbody>\n",
              "</table>\n",
              "</div>"
            ],
            "text/plain": [
              "                                               title  ...                date\n",
              "0  as us budget fight looms republicans flip thei...  ...  December 31, 2017 \n",
              "1  us military to accept transgender recruits on ...  ...  December 29, 2017 \n",
              "2  senior us republican senator let mr mueller do...  ...  December 31, 2017 \n",
              "3  fbi russia probe helped by australian diplomat...  ...  December 30, 2017 \n",
              "4  trump wants postal service to charge much more...  ...  December 29, 2017 \n",
              "\n",
              "[5 rows x 4 columns]"
            ]
          },
          "metadata": {
            "tags": []
          },
          "execution_count": 5
        }
      ]
    },
    {
      "cell_type": "markdown",
      "metadata": {
        "id": "Xd9ZDuz7jNi9"
      },
      "source": [
        "## **Μελέτη των Δεδομένων**"
      ]
    },
    {
      "cell_type": "code",
      "metadata": {
        "id": "QUxkIkdpkXW7",
        "colab": {
          "base_uri": "https://localhost:8080/",
          "height": 374
        },
        "outputId": "d2fd97c9-c9f9-40ab-908c-243b47f8bd2d"
      },
      "source": [
        "fake_titles_array = fake_data['title'].values\n",
        "\n",
        "wordcloud = WordCloud(width=3000,height=1000, background_color = \"white\", ).generate(str(fake_titles_array))\n",
        "\n",
        "figure(figsize=(20, 8), dpi=80)\n",
        "plt.imshow(wordcloud, interpolation='bilinear')\n",
        "plt.axis(\"off\") \n",
        "plt.show()"
      ],
      "execution_count": 6,
      "outputs": [
        {
          "output_type": "error",
          "ename": "KeyboardInterrupt",
          "evalue": "ignored",
          "traceback": [
            "\u001b[0;31m---------------------------------------------------------------------------\u001b[0m",
            "\u001b[0;31mKeyboardInterrupt\u001b[0m                         Traceback (most recent call last)",
            "\u001b[0;32m<ipython-input-6-b4e3d6b019f3>\u001b[0m in \u001b[0;36m<module>\u001b[0;34m()\u001b[0m\n\u001b[1;32m      1\u001b[0m \u001b[0mfake_titles_array\u001b[0m \u001b[0;34m=\u001b[0m \u001b[0mfake_data\u001b[0m\u001b[0;34m[\u001b[0m\u001b[0;34m'title'\u001b[0m\u001b[0;34m]\u001b[0m\u001b[0;34m.\u001b[0m\u001b[0mvalues\u001b[0m\u001b[0;34m\u001b[0m\u001b[0;34m\u001b[0m\u001b[0m\n\u001b[1;32m      2\u001b[0m \u001b[0;34m\u001b[0m\u001b[0m\n\u001b[0;32m----> 3\u001b[0;31m \u001b[0mwordcloud\u001b[0m \u001b[0;34m=\u001b[0m \u001b[0mWordCloud\u001b[0m\u001b[0;34m(\u001b[0m\u001b[0mwidth\u001b[0m\u001b[0;34m=\u001b[0m\u001b[0;36m3000\u001b[0m\u001b[0;34m,\u001b[0m\u001b[0mheight\u001b[0m\u001b[0;34m=\u001b[0m\u001b[0;36m1000\u001b[0m\u001b[0;34m,\u001b[0m \u001b[0mbackground_color\u001b[0m \u001b[0;34m=\u001b[0m \u001b[0;34m\"white\"\u001b[0m\u001b[0;34m,\u001b[0m \u001b[0;34m)\u001b[0m\u001b[0;34m.\u001b[0m\u001b[0mgenerate\u001b[0m\u001b[0;34m(\u001b[0m\u001b[0mstr\u001b[0m\u001b[0;34m(\u001b[0m\u001b[0mfake_titles_array\u001b[0m\u001b[0;34m)\u001b[0m\u001b[0;34m)\u001b[0m\u001b[0;34m\u001b[0m\u001b[0;34m\u001b[0m\u001b[0m\n\u001b[0m\u001b[1;32m      4\u001b[0m \u001b[0;34m\u001b[0m\u001b[0m\n\u001b[1;32m      5\u001b[0m \u001b[0mfigure\u001b[0m\u001b[0;34m(\u001b[0m\u001b[0mfigsize\u001b[0m\u001b[0;34m=\u001b[0m\u001b[0;34m(\u001b[0m\u001b[0;36m20\u001b[0m\u001b[0;34m,\u001b[0m \u001b[0;36m8\u001b[0m\u001b[0;34m)\u001b[0m\u001b[0;34m,\u001b[0m \u001b[0mdpi\u001b[0m\u001b[0;34m=\u001b[0m\u001b[0;36m80\u001b[0m\u001b[0;34m)\u001b[0m\u001b[0;34m\u001b[0m\u001b[0;34m\u001b[0m\u001b[0m\n",
            "\u001b[0;32m/usr/local/lib/python3.7/dist-packages/wordcloud/wordcloud.py\u001b[0m in \u001b[0;36mgenerate\u001b[0;34m(self, text)\u001b[0m\n\u001b[1;32m    603\u001b[0m         \u001b[0mself\u001b[0m\u001b[0;34m\u001b[0m\u001b[0;34m\u001b[0m\u001b[0m\n\u001b[1;32m    604\u001b[0m         \"\"\"\n\u001b[0;32m--> 605\u001b[0;31m         \u001b[0;32mreturn\u001b[0m \u001b[0mself\u001b[0m\u001b[0;34m.\u001b[0m\u001b[0mgenerate_from_text\u001b[0m\u001b[0;34m(\u001b[0m\u001b[0mtext\u001b[0m\u001b[0;34m)\u001b[0m\u001b[0;34m\u001b[0m\u001b[0;34m\u001b[0m\u001b[0m\n\u001b[0m\u001b[1;32m    606\u001b[0m \u001b[0;34m\u001b[0m\u001b[0m\n\u001b[1;32m    607\u001b[0m     \u001b[0;32mdef\u001b[0m \u001b[0m_check_generated\u001b[0m\u001b[0;34m(\u001b[0m\u001b[0mself\u001b[0m\u001b[0;34m)\u001b[0m\u001b[0;34m:\u001b[0m\u001b[0;34m\u001b[0m\u001b[0;34m\u001b[0m\u001b[0m\n",
            "\u001b[0;32m/usr/local/lib/python3.7/dist-packages/wordcloud/wordcloud.py\u001b[0m in \u001b[0;36mgenerate_from_text\u001b[0;34m(self, text)\u001b[0m\n\u001b[1;32m    585\u001b[0m         \"\"\"\n\u001b[1;32m    586\u001b[0m         \u001b[0mwords\u001b[0m \u001b[0;34m=\u001b[0m \u001b[0mself\u001b[0m\u001b[0;34m.\u001b[0m\u001b[0mprocess_text\u001b[0m\u001b[0;34m(\u001b[0m\u001b[0mtext\u001b[0m\u001b[0;34m)\u001b[0m\u001b[0;34m\u001b[0m\u001b[0;34m\u001b[0m\u001b[0m\n\u001b[0;32m--> 587\u001b[0;31m         \u001b[0mself\u001b[0m\u001b[0;34m.\u001b[0m\u001b[0mgenerate_from_frequencies\u001b[0m\u001b[0;34m(\u001b[0m\u001b[0mwords\u001b[0m\u001b[0;34m)\u001b[0m\u001b[0;34m\u001b[0m\u001b[0;34m\u001b[0m\u001b[0m\n\u001b[0m\u001b[1;32m    588\u001b[0m         \u001b[0;32mreturn\u001b[0m \u001b[0mself\u001b[0m\u001b[0;34m\u001b[0m\u001b[0;34m\u001b[0m\u001b[0m\n\u001b[1;32m    589\u001b[0m \u001b[0;34m\u001b[0m\u001b[0m\n",
            "\u001b[0;32m/usr/local/lib/python3.7/dist-packages/wordcloud/wordcloud.py\u001b[0m in \u001b[0;36mgenerate_from_frequencies\u001b[0;34m(self, frequencies, max_font_size)\u001b[0m\n\u001b[1;32m    480\u001b[0m                 result = occupancy.sample_position(box_size[1] + self.margin,\n\u001b[1;32m    481\u001b[0m                                                    \u001b[0mbox_size\u001b[0m\u001b[0;34m[\u001b[0m\u001b[0;36m0\u001b[0m\u001b[0;34m]\u001b[0m \u001b[0;34m+\u001b[0m \u001b[0mself\u001b[0m\u001b[0;34m.\u001b[0m\u001b[0mmargin\u001b[0m\u001b[0;34m,\u001b[0m\u001b[0;34m\u001b[0m\u001b[0;34m\u001b[0m\u001b[0m\n\u001b[0;32m--> 482\u001b[0;31m                                                    random_state)\n\u001b[0m\u001b[1;32m    483\u001b[0m                 \u001b[0;32mif\u001b[0m \u001b[0mresult\u001b[0m \u001b[0;32mis\u001b[0m \u001b[0;32mnot\u001b[0m \u001b[0;32mNone\u001b[0m \u001b[0;32mor\u001b[0m \u001b[0mfont_size\u001b[0m \u001b[0;34m<\u001b[0m \u001b[0mself\u001b[0m\u001b[0;34m.\u001b[0m\u001b[0mmin_font_size\u001b[0m\u001b[0;34m:\u001b[0m\u001b[0;34m\u001b[0m\u001b[0;34m\u001b[0m\u001b[0m\n\u001b[1;32m    484\u001b[0m                     \u001b[0;31m# either we found a place or font-size went too small\u001b[0m\u001b[0;34m\u001b[0m\u001b[0;34m\u001b[0m\u001b[0;34m\u001b[0m\u001b[0m\n",
            "\u001b[0;32m/usr/local/lib/python3.7/dist-packages/wordcloud/wordcloud.py\u001b[0m in \u001b[0;36msample_position\u001b[0;34m(self, size_x, size_y, random_state)\u001b[0m\n\u001b[1;32m     44\u001b[0m     \u001b[0;32mdef\u001b[0m \u001b[0msample_position\u001b[0m\u001b[0;34m(\u001b[0m\u001b[0mself\u001b[0m\u001b[0;34m,\u001b[0m \u001b[0msize_x\u001b[0m\u001b[0;34m,\u001b[0m \u001b[0msize_y\u001b[0m\u001b[0;34m,\u001b[0m \u001b[0mrandom_state\u001b[0m\u001b[0;34m)\u001b[0m\u001b[0;34m:\u001b[0m\u001b[0;34m\u001b[0m\u001b[0;34m\u001b[0m\u001b[0m\n\u001b[1;32m     45\u001b[0m         return query_integral_image(self.integral, size_x, size_y,\n\u001b[0;32m---> 46\u001b[0;31m                                     random_state)\n\u001b[0m\u001b[1;32m     47\u001b[0m \u001b[0;34m\u001b[0m\u001b[0m\n\u001b[1;32m     48\u001b[0m     \u001b[0;32mdef\u001b[0m \u001b[0mupdate\u001b[0m\u001b[0;34m(\u001b[0m\u001b[0mself\u001b[0m\u001b[0;34m,\u001b[0m \u001b[0mimg_array\u001b[0m\u001b[0;34m,\u001b[0m \u001b[0mpos_x\u001b[0m\u001b[0;34m,\u001b[0m \u001b[0mpos_y\u001b[0m\u001b[0;34m)\u001b[0m\u001b[0;34m:\u001b[0m\u001b[0;34m\u001b[0m\u001b[0;34m\u001b[0m\u001b[0m\n",
            "\u001b[0;31mKeyboardInterrupt\u001b[0m: "
          ]
        }
      ]
    },
    {
      "cell_type": "code",
      "metadata": {
        "id": "tGnahBazjR7i"
      },
      "source": [
        "true_titles_array = true_data['title'].values\n",
        "\n",
        "wordcloud = WordCloud(width=3000,height=1000, background_color = \"white\", ).generate(str(true_titles_array))\n",
        "\n",
        "figure(figsize=(20, 8), dpi=80)\n",
        "plt.imshow(wordcloud, interpolation='bilinear')\n",
        "plt.axis(\"off\") \n",
        "plt.show()"
      ],
      "execution_count": null,
      "outputs": []
    },
    {
      "cell_type": "code",
      "metadata": {
        "id": "_TwFvzxrlrPh"
      },
      "source": [
        "fake_titles_strlen = fake_data['title'].str.len()\n",
        "fake_titles_strlen.head()\n",
        "fake_titles_average_chars = fake_titles_strlen.mean()\n",
        "\n",
        "fake_texts_strlen = fake_data['text'].str.len()\n",
        "fake_texts_strlen.head()\n",
        "fake_texts_average_chars = fake_texts_strlen.mean()\n",
        "\n",
        "true_titles_strlen = true_data['title'].str.len()\n",
        "true_titles_strlen.head()\n",
        "true_titles_average_chars = true_titles_strlen.mean()\n",
        "\n",
        "true_texts_strlen = true_data['text'].str.len()\n",
        "true_texts_strlen.head()\n",
        "true_texts_average_chars = true_texts_strlen.mean()"
      ],
      "execution_count": null,
      "outputs": []
    },
    {
      "cell_type": "code",
      "metadata": {
        "id": "n98OgTSEnqZ1"
      },
      "source": [
        "plt.bar(['Fake', 'True'],[fake_titles_average_chars, true_titles_average_chars])\n",
        "plt.show()\n",
        "print(true_titles_average_chars)"
      ],
      "execution_count": null,
      "outputs": []
    },
    {
      "cell_type": "code",
      "metadata": {
        "id": "G3SMZ_seoDm7"
      },
      "source": [
        "plt.bar(['Fake', 'True'],[fake_texts_average_chars, true_texts_average_chars])\n",
        "plt.show()\n",
        "print(true_texts_average_chars)"
      ],
      "execution_count": null,
      "outputs": []
    },
    {
      "cell_type": "code",
      "metadata": {
        "id": "hojdRKrgorY7"
      },
      "source": [
        "fake_titles_word_count = fake_data['title'].str.count(' ')+1\n",
        "fake_titles_word_count.head()\n",
        "\n",
        "plt.hist(fake_titles_word_count, bins=20)\n",
        "plt.show()\n",
        "\n",
        "fake_text_word_count = fake_data['text'].str.count(' ')+1\n",
        "fake_text_word_count.head()\n",
        "\n",
        "plt.hist(fake_text_word_count, bins=200, range=(0, 2000))\n",
        "plt.show()"
      ],
      "execution_count": null,
      "outputs": []
    },
    {
      "cell_type": "code",
      "metadata": {
        "id": "cGJrP28VtghM"
      },
      "source": [
        "true_titles_word_count = true_data['title'].str.count(' ')+1\n",
        "true_titles_word_count.head()\n",
        "\n",
        "plt.hist(true_titles_word_count, bins=20)\n",
        "plt.show()\n",
        "\n",
        "true_text_word_count = true_data['text'].str.count(' ')+1\n",
        "true_text_word_count.head()\n",
        "\n",
        "plt.hist(true_text_word_count, bins=200, range=(0, 2000))\n",
        "plt.show()"
      ],
      "execution_count": null,
      "outputs": []
    },
    {
      "cell_type": "code",
      "metadata": {
        "id": "inEZZD0lwIO6"
      },
      "source": [
        "fake_data_no_stopwords = fake_data\n",
        "fake_data_no_stopwords['title'] = fake_data_no_stopwords.title.apply(remove_stopwords)\n",
        "fake_data_no_stopwords['text'] = fake_data_no_stopwords.text.apply(remove_stopwords)\n",
        "fake_data_no_stopwords\n",
        "\n",
        "fake_titles_word_count = fake_data_no_stopwords['title'].str.count(' ')+1\n",
        "fake_titles_word_count.head()\n",
        "\n",
        "plt.hist(fake_titles_word_count, bins=30, range=(0,30))\n",
        "plt.show()\n",
        "\n",
        "fake_text_word_count = fake_data_no_stopwords['text'].str.count(' ')+1\n",
        "fake_text_word_count.head()\n",
        "\n",
        "plt.hist(fake_text_word_count, bins=100, range=(0, 1000))\n",
        "plt.show()"
      ],
      "execution_count": null,
      "outputs": []
    },
    {
      "cell_type": "code",
      "metadata": {
        "id": "cA9VSIBeuVCu"
      },
      "source": [
        "true_data_no_stopwords = true_data\n",
        "true_data_no_stopwords['title'] = true_data_no_stopwords.title.apply(remove_stopwords)\n",
        "true_data_no_stopwords['text'] = true_data_no_stopwords.text.apply(remove_stopwords)\n",
        "true_data_no_stopwords\n",
        "\n",
        "true_titles_word_count = true_data_no_stopwords['title'].str.count(' ')+1\n",
        "true_titles_word_count.head()\n",
        "\n",
        "plt.hist(true_titles_word_count, bins=30, range=(0,30))\n",
        "plt.show()\n",
        "\n",
        "true_text_word_count = true_data_no_stopwords['text'].str.count(' ')+1\n",
        "true_text_word_count.head()\n",
        "\n",
        "plt.hist(true_text_word_count, bins=100, range=(0, 1000))\n",
        "plt.show()"
      ],
      "execution_count": null,
      "outputs": []
    },
    {
      "cell_type": "code",
      "metadata": {
        "id": "bxbxIEMnd6FV"
      },
      "source": [
        "from sklearn.feature_extraction.text import TfidfVectorizer\n",
        "\n",
        "def most_frequent_bigrams(series, n=20, min_words=2, max_words=2):\n",
        "  series_corpus = series.tolist()\n",
        "\n",
        "  series_vector = CountVectorizer(ngram_range = (min_words, max_words), binary = False, max_features = 10000, min_df =0.001)\n",
        "\n",
        "  series_df = pd.DataFrame(series_vector.fit_transform(series_corpus).toarray())\n",
        "\n",
        "  series_df_summed = series_df.sum(axis=0).sort_values(ascending=False)\n",
        "\n",
        "  results = []\n",
        "\n",
        "  for item in series_df_summed.index:\n",
        "    results.append(series_vector.get_feature_names()[item])\n",
        "\n",
        "  return results[:n]"
      ],
      "execution_count": null,
      "outputs": []
    },
    {
      "cell_type": "code",
      "metadata": {
        "id": "SBYlMdNjmgDr"
      },
      "source": [
        "most_frequent_bigrams(fake_data['title'])"
      ],
      "execution_count": null,
      "outputs": []
    },
    {
      "cell_type": "code",
      "metadata": {
        "id": "LF92UxHemuy0"
      },
      "source": [
        "most_frequent_bigrams(true_data['title'])"
      ],
      "execution_count": null,
      "outputs": []
    },
    {
      "cell_type": "code",
      "metadata": {
        "id": "0OgVufO3nkXB"
      },
      "source": [
        "most_frequent_bigrams(fake_data['text'])"
      ],
      "execution_count": null,
      "outputs": []
    },
    {
      "cell_type": "code",
      "metadata": {
        "id": "ySeGXJRtnkiy"
      },
      "source": [
        "most_frequent_bigrams(true_data['text'])"
      ],
      "execution_count": null,
      "outputs": []
    },
    {
      "cell_type": "markdown",
      "metadata": {
        "id": "jXm8ARVnS_81"
      },
      "source": [
        "## **Δημιουργία Συνόλου Εκμάθησης & Δοκιμής**"
      ]
    },
    {
      "cell_type": "code",
      "metadata": {
        "id": "XVNcdzqtpj59"
      },
      "source": [
        "from math import floor, ceil\n",
        "\n",
        "fake_data['label'] = 0\n",
        "true_data['label'] = 1\n",
        "all_data = fake_data\n",
        "all_data = all_data.append(true_data).reset_index(drop=True)\n",
        "\n",
        "all_data = all_data.sample(frac=1).reset_index(drop=True)\n",
        "\n",
        "def create_files(df, train_ratio, df_max_size= None):\n",
        "  if(df_max_size is not None):\n",
        "    df = df.head(df_max_size)\n",
        "  train_size = int(train_ratio * (df.shape[0]-1))\n",
        "  test_size = df.shape[0] - 1 - train_size\n",
        "  #print(df.shape)\n",
        "  train_data = df.head(train_size)\n",
        "  #print(train_data.shape)\n",
        "  test_data = df.tail(test_size)\n",
        "  #print(testing_data.shape)\n",
        "  train_data.to_csv('train.csv', index=False)\n",
        "  test_data.to_csv('test.csv', index=False)\n",
        "\n",
        "create_files(all_data, 0.75, 1000000)"
      ],
      "execution_count": null,
      "outputs": []
    },
    {
      "cell_type": "code",
      "metadata": {
        "id": "yEoBvaKPwVoV"
      },
      "source": [
        "test1 = pd.read_csv('train.csv')\n",
        "test1.head(10)"
      ],
      "execution_count": null,
      "outputs": []
    },
    {
      "cell_type": "markdown",
      "metadata": {
        "id": "BiEBixF4TW6Z"
      },
      "source": [
        "## **Υλοποίηση Κατηγοριοποίησης (Classification)**"
      ]
    },
    {
      "cell_type": "markdown",
      "metadata": {
        "id": "cvXxf8Fnqhng"
      },
      "source": [
        "### **Διάβασμα Train/Test Αρχείων**"
      ]
    },
    {
      "cell_type": "code",
      "metadata": {
        "id": "TWscZHyHTiPJ"
      },
      "source": [
        "train_df = pd.read_csv('train.csv')\n",
        "test_df = pd.read_csv('test.csv')\n",
        "\n",
        "train_df = train_df.fillna('')\n",
        "test_df = test_df.fillna('')\n",
        "\n",
        "train_documents = (train_df['title'] + ' ' + train_df['text'] + ' ' + train_df['subject']).tolist()\n",
        "test_documents = (test_df['title'] + ' ' + test_df['text'] + ' ' + test_df['subject']).tolist()"
      ],
      "execution_count": 7,
      "outputs": []
    },
    {
      "cell_type": "markdown",
      "metadata": {
        "id": "KoyT_TJ5qqVC"
      },
      "source": [
        "### **Δημιουργία Bag of Words**"
      ]
    },
    {
      "cell_type": "code",
      "metadata": {
        "id": "8hUvE1Zjrotp"
      },
      "source": [
        "bow_count_vectorizer = CountVectorizer(ngram_range = (1,1), min_df = 0.05 )\n",
        "bow_count_vectorizer.fit(train_documents)\n",
        "\n",
        "train_bow = bow_count_vectorizer.transform(train_documents)\n",
        "test_bow = bow_count_vectorizer.transform(test_documents)"
      ],
      "execution_count": null,
      "outputs": []
    },
    {
      "cell_type": "markdown",
      "metadata": {
        "id": "6VvessmEqvo9"
      },
      "source": [
        "### **Δημιουργία Tf-Idf**"
      ]
    },
    {
      "cell_type": "code",
      "metadata": {
        "id": "HMGTErfisIAk"
      },
      "source": [
        "import sklearn.feature_extraction.text.TfidfVectorizer\n",
        "\n",
        "tf_idf_vectorizer = TfidfVectorizer(ngram_range = (1,1), min_df = 0.05 )\n",
        "tf_idf_vectorizer.fit(train_documents)\n",
        "\n",
        "train_tf_idf = tf_idf_vectorizer.transform(train_documents)\n",
        "test_tf_idf = tf_idf_vectorizer.transform(test_documents)"
      ],
      "execution_count": null,
      "outputs": []
    },
    {
      "cell_type": "markdown",
      "metadata": {
        "id": "1cium1xUq0Cu"
      },
      "source": [
        "### **Δημιουργία Word2vec**"
      ]
    },
    {
      "cell_type": "markdown",
      "metadata": {
        "id": "K7Hdm2Ocq-0-"
      },
      "source": [
        "### **Εκπαίδεση/Αξιολόγηση με Bag of Words**"
      ]
    },
    {
      "cell_type": "markdown",
      "metadata": {
        "id": "P348jCA8vmjY"
      },
      "source": [
        ""
      ]
    },
    {
      "cell_type": "markdown",
      "metadata": {
        "id": "ZuoovJJzrLHD"
      },
      "source": [
        "**Εκπαίδεση/Αξιολόγηση με Tf-Idf**"
      ]
    },
    {
      "cell_type": "markdown",
      "metadata": {
        "id": "Y05JEV9irNam"
      },
      "source": [
        "**Εκπαίδεση/Αξιολόγηση με Word2vec**"
      ]
    },
    {
      "cell_type": "code",
      "metadata": {
        "id": "cCyC6ZbJZaRc",
        "outputId": "0854151d-a35a-43c0-d243-3b82a9756216",
        "colab": {
          "base_uri": "https://localhost:8080/"
        }
      },
      "source": [
        "\n",
        "\n"
      ],
      "execution_count": 8,
      "outputs": [
        {
          "output_type": "execute_result",
          "data": {
            "text/plain": [
              "CountVectorizer(analyzer='word', binary=False, decode_error='strict',\n",
              "                dtype=<class 'numpy.int64'>, encoding='utf-8', input='content',\n",
              "                lowercase=True, max_df=1.0, max_features=None, min_df=0.05,\n",
              "                ngram_range=(1, 1), preprocessor=None, stop_words=None,\n",
              "                strip_accents=None, token_pattern='(?u)\\\\b\\\\w\\\\w+\\\\b',\n",
              "                tokenizer=None, vocabulary=None)"
            ]
          },
          "metadata": {
            "tags": []
          },
          "execution_count": 8
        }
      ]
    },
    {
      "cell_type": "code",
      "metadata": {
        "id": "C7Bs_zu6eIFm"
      },
      "source": [
        "bow = bow_count_vectorizer.transform(train_documents)"
      ],
      "execution_count": 9,
      "outputs": []
    },
    {
      "cell_type": "code",
      "metadata": {
        "id": "tV25Yn0Wec-n"
      },
      "source": [
        "bow_df = pd.DataFrame(bow.toarray())"
      ],
      "execution_count": 10,
      "outputs": []
    },
    {
      "cell_type": "code",
      "metadata": {
        "id": "n5hl6CguelTo"
      },
      "source": [
        ""
      ],
      "execution_count": null,
      "outputs": []
    },
    {
      "cell_type": "markdown",
      "metadata": {
        "id": "1Sz115Epib5X"
      },
      "source": [
        "### **Logistic Regression**"
      ]
    },
    {
      "cell_type": "code",
      "metadata": {
        "id": "JJEHImDKgzd_",
        "outputId": "c5fb2371-a949-4ce4-c794-f40cf8babe1a",
        "colab": {
          "base_uri": "https://localhost:8080/"
        }
      },
      "source": [
        "from sklearn.linear_model import LogisticRegression\n",
        "\n",
        "logistic_regression_model = LogisticRegression()\n",
        "\n",
        "logistic_regression_model.fit(bow_df, train_df['label'])"
      ],
      "execution_count": 11,
      "outputs": [
        {
          "output_type": "stream",
          "text": [
            "/usr/local/lib/python3.7/dist-packages/sklearn/linear_model/_logistic.py:940: ConvergenceWarning: lbfgs failed to converge (status=1):\n",
            "STOP: TOTAL NO. of ITERATIONS REACHED LIMIT.\n",
            "\n",
            "Increase the number of iterations (max_iter) or scale the data as shown in:\n",
            "    https://scikit-learn.org/stable/modules/preprocessing.html\n",
            "Please also refer to the documentation for alternative solver options:\n",
            "    https://scikit-learn.org/stable/modules/linear_model.html#logistic-regression\n",
            "  extra_warning_msg=_LOGISTIC_SOLVER_CONVERGENCE_MSG)\n"
          ],
          "name": "stderr"
        },
        {
          "output_type": "execute_result",
          "data": {
            "text/plain": [
              "LogisticRegression(C=1.0, class_weight=None, dual=False, fit_intercept=True,\n",
              "                   intercept_scaling=1, l1_ratio=None, max_iter=100,\n",
              "                   multi_class='auto', n_jobs=None, penalty='l2',\n",
              "                   random_state=None, solver='lbfgs', tol=0.0001, verbose=0,\n",
              "                   warm_start=False)"
            ]
          },
          "metadata": {
            "tags": []
          },
          "execution_count": 11
        }
      ]
    },
    {
      "cell_type": "code",
      "metadata": {
        "id": "qlgZ8HLIhvGF",
        "outputId": "6fcedd24-72c4-49af-880a-851275c8572d",
        "colab": {
          "base_uri": "https://localhost:8080/"
        }
      },
      "source": [
        "test_documents = (test_df['title'] + ' ' + test_df['text'] + ' ' + test_df['subject']).tolist()\n",
        "\n",
        "test_bow = bow_count_vectorizer.transform(test_documents)\n",
        "\n",
        "test_bow_df = pd.DataFrame(test_bow.toarray())\n",
        "\n",
        "logistic_regression_model.score(test_bow_df, test_df['label'])"
      ],
      "execution_count": 12,
      "outputs": [
        {
          "output_type": "execute_result",
          "data": {
            "text/plain": [
              "0.9992873051224944"
            ]
          },
          "metadata": {
            "tags": []
          },
          "execution_count": 12
        }
      ]
    },
    {
      "cell_type": "code",
      "metadata": {
        "id": "ugtmxfJAil7r",
        "outputId": "06eae5cb-6e4a-4e77-d103-cb9002ac488a",
        "colab": {
          "base_uri": "https://localhost:8080/"
        }
      },
      "source": [
        "test_documents = (test_df['title'] + ' ' + test_df['text'] + ' ' + test_df['subject']).tolist()\n",
        "\n",
        "test_bow = bow_count_vectorizer.transform(test_documents)\n",
        "\n",
        "test_bow_df = pd.DataFrame(test_bow.toarray())\n",
        "\n",
        "logistic_regression_model.predict(test_bow_df)"
      ],
      "execution_count": 13,
      "outputs": [
        {
          "output_type": "execute_result",
          "data": {
            "text/plain": [
              "array([1, 1, 0, ..., 1, 0, 1])"
            ]
          },
          "metadata": {
            "tags": []
          },
          "execution_count": 13
        }
      ]
    },
    {
      "cell_type": "markdown",
      "metadata": {
        "id": "z8g1E7xpihIG"
      },
      "source": [
        "### **Naive Bayes**"
      ]
    },
    {
      "cell_type": "code",
      "metadata": {
        "id": "5vAP4xSrkBwO",
        "outputId": "a5da6afd-be43-4900-f713-33bc09078198",
        "colab": {
          "base_uri": "https://localhost:8080/"
        }
      },
      "source": [
        "from sklearn.naive_bayes import GaussianNB\n",
        "\n",
        "naive_bayes_model = GaussianNB()\n",
        "\n",
        "naive_bayes_model.fit(bow_df, train_df['label'])"
      ],
      "execution_count": 15,
      "outputs": [
        {
          "output_type": "execute_result",
          "data": {
            "text/plain": [
              "GaussianNB(priors=None, var_smoothing=1e-09)"
            ]
          },
          "metadata": {
            "tags": []
          },
          "execution_count": 15
        }
      ]
    },
    {
      "cell_type": "code",
      "metadata": {
        "id": "ZUuiVwAYkyFY",
        "outputId": "217da9a6-7f6b-4434-e6f0-ca9add6cd0c6",
        "colab": {
          "base_uri": "https://localhost:8080/"
        }
      },
      "source": [
        "test_documents = (test_df['title'] + ' ' + test_df['text'] + ' ' + test_df['subject']).tolist()\n",
        "\n",
        "test_bow = bow_count_vectorizer.transform(test_documents)\n",
        "\n",
        "test_bow_df = pd.DataFrame(test_bow.toarray())\n",
        "\n",
        "naive_bayes_model.score(test_bow_df, test_df['label'])"
      ],
      "execution_count": 16,
      "outputs": [
        {
          "output_type": "execute_result",
          "data": {
            "text/plain": [
              "0.9246325167037862"
            ]
          },
          "metadata": {
            "tags": []
          },
          "execution_count": 16
        }
      ]
    },
    {
      "cell_type": "markdown",
      "metadata": {
        "id": "trbrBIRbk7sJ"
      },
      "source": [
        "**Support Vector Machines**"
      ]
    },
    {
      "cell_type": "code",
      "metadata": {
        "id": "StjkTGe5mAJp",
        "outputId": "976eedc5-06a2-4e27-9a60-69c21fcb3795",
        "colab": {
          "base_uri": "https://localhost:8080/"
        }
      },
      "source": [
        "from sklearn import svm\n",
        "\n",
        "svm_model = svm.SVC()\n",
        "\n",
        "#svm_model.fit(bow_df, train_df['label'])\n",
        "\n"
      ],
      "execution_count": 18,
      "outputs": [
        {
          "output_type": "execute_result",
          "data": {
            "text/plain": [
              "SVC(C=1.0, break_ties=False, cache_size=200, class_weight=None, coef0=0.0,\n",
              "    decision_function_shape='ovr', degree=3, gamma='scale', kernel='rbf',\n",
              "    max_iter=-1, probability=False, random_state=None, shrinking=True,\n",
              "    tol=0.001, verbose=False)"
            ]
          },
          "metadata": {
            "tags": []
          },
          "execution_count": 18
        }
      ]
    },
    {
      "cell_type": "code",
      "metadata": {
        "id": "zaftA9fwoDlO",
        "outputId": "71bd63bf-3018-472f-a54b-50b0f7ead74f",
        "colab": {
          "base_uri": "https://localhost:8080/"
        }
      },
      "source": [
        "test_documents = (test_df['title'] + ' ' + test_df['text'] + ' ' + test_df['subject']).tolist()\n",
        "\n",
        "test_bow = bow_count_vectorizer.transform(test_documents)\n",
        "\n",
        "test_bow_df = pd.DataFrame(test_bow.toarray())\n",
        "\n",
        "svm_model.score(test_bow_df, test_df['label'])"
      ],
      "execution_count": 28,
      "outputs": [
        {
          "output_type": "execute_result",
          "data": {
            "text/plain": [
              "0.9957238307349666"
            ]
          },
          "metadata": {
            "tags": []
          },
          "execution_count": 28
        }
      ]
    },
    {
      "cell_type": "markdown",
      "metadata": {
        "id": "ObAALkUZpFtf"
      },
      "source": [
        "**Random Forests**"
      ]
    },
    {
      "cell_type": "code",
      "metadata": {
        "id": "6QDHmoZypKFx",
        "outputId": "53184008-1548-4ec7-f006-24fffa19861c",
        "colab": {
          "base_uri": "https://localhost:8080/"
        }
      },
      "source": [
        "from sklearn.ensemble import RandomForestClassifier\n",
        "\n",
        "random_forests_model = RandomForestClassifier(max_depth=1, random_state=0)\n",
        "\n",
        "random_forests_model.fit(bow_df, train_df['label'])"
      ],
      "execution_count": 30,
      "outputs": [
        {
          "output_type": "execute_result",
          "data": {
            "text/plain": [
              "RandomForestClassifier(bootstrap=True, ccp_alpha=0.0, class_weight=None,\n",
              "                       criterion='gini', max_depth=1, max_features='auto',\n",
              "                       max_leaf_nodes=None, max_samples=None,\n",
              "                       min_impurity_decrease=0.0, min_impurity_split=None,\n",
              "                       min_samples_leaf=1, min_samples_split=2,\n",
              "                       min_weight_fraction_leaf=0.0, n_estimators=100,\n",
              "                       n_jobs=None, oob_score=False, random_state=0, verbose=0,\n",
              "                       warm_start=False)"
            ]
          },
          "metadata": {
            "tags": []
          },
          "execution_count": 30
        }
      ]
    },
    {
      "cell_type": "code",
      "metadata": {
        "id": "LFMX-E8Upiwm",
        "outputId": "c246ae86-3e11-4ee2-9697-0a34b5accfc7",
        "colab": {
          "base_uri": "https://localhost:8080/"
        }
      },
      "source": [
        "random_forests_model.score(test_bow_df, test_df['label'])"
      ],
      "execution_count": 31,
      "outputs": [
        {
          "output_type": "execute_result",
          "data": {
            "text/plain": [
              "0.9947438752783965"
            ]
          },
          "metadata": {
            "tags": []
          },
          "execution_count": 31
        }
      ]
    }
  ]
}